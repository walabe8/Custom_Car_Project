{
  "nbformat": 4,
  "nbformat_minor": 0,
  "metadata": {
    "colab": {
      "provenance": [],
      "authorship_tag": "ABX9TyPTPX7AUZeFG4In9TJhC3Si",
      "include_colab_link": true
    },
    "kernelspec": {
      "name": "python3",
      "display_name": "Python 3"
    },
    "language_info": {
      "name": "python"
    }
  },
  "cells": [
    {
      "cell_type": "markdown",
      "metadata": {
        "id": "view-in-github",
        "colab_type": "text"
      },
      "source": [
        "<a href=\"https://colab.research.google.com/github/walabe8/Custom_Car_Project/blob/main/Custom_Car_Project.ipynb\" target=\"_parent\"><img src=\"https://colab.research.google.com/assets/colab-badge.svg\" alt=\"Open In Colab\"/></a>"
      ]
    },
    {
      "cell_type": "code",
      "execution_count": null,
      "metadata": {
        "id": "KQhTNtJeHV1e"
      },
      "outputs": [],
      "source": [
        "# Intro\n",
        "print(\"Welcome to the UMBC \\n Car Customization Form!\")\n",
        "print()\n",
        "\n",
        "# Make & Model Form 1-2\n",
        "print(\n",
        "    \"(For multiple choice problems, please enter the letter of the selection you're looking for\"\n",
        ")\n",
        "print(\"~ Make & Model~\")\n",
        "print(\"1. What Model of Car are you ordering?\")\n",
        "print(\"    a. Honda Civic\")\n",
        "print(\"    b. Honda CRV\")\n",
        "print(\"    c. \")\n",
        "print(\"    d. \")\n",
        "\n",
        "print()\n",
        "userPrompt = input(\"Please enter 'a' - 'd': \")\n",
        "\n",
        "print()\n",
        "print(\n",
        "    \"2. Would you like to upgrade from the 4-door option to the 2-door option?\"\n",
        ")\n",
        "userPrompt2 = input(\"Please enter 'yes' or 'no': \")\n",
        "\n",
        "# Exterior Form 3-4\n",
        "print()\n",
        "print(\"Exterior\")\n",
        "print(\"3. What color would you like your care to be?\")\n",
        "userPrompt3 = input(\"You may enter the name of any color you'd like:\")\n",
        "\n",
        "print()\n",
        "print(\"4. Would you like the deluxe weather package?\")\n",
        "userPrompt4 = input(\"Please enter 'yes' or 'no': \")\n",
        "\n",
        "# Interior Form 5-6\n",
        "print()\n",
        "print(\"Interior\")\n",
        "print(\"5. Which Engine would you like your car to have?\")\n",
        "print(\"    a. Electric\")\n",
        "print(\"    b. V8\")\n",
        "print(\"    c. V6\")\n",
        "userPrompt5 = input(\"Please enter 'yes' or 'no': \")\n",
        "\n",
        "print()\n",
        "print(\"6. Would you like heated seats?\")\n",
        "userPrompt6 = input(\"Please enter 'yes' or 'no': \")\n",
        "\n",
        "# Summary of their responses and corresponding questions should be shown at the end\n",
        "print()\n",
        "print(\"Summary\")\n",
        "print(f\"Model Option: {userPrompt}\")\n",
        "print(f\"Upgrade to 2-Door?: {userPrompt2}\")\n",
        "print(f\"Desired Color?: {userPrompt3}\")\n",
        "print(f\"Upgrade to Deluxe Weather?: {userPrompt4}\")\n",
        "print(f\"Engine Option?: {userPrompt5}\")\n",
        "print(f\"Upgrade to Heated Seats?: {userPrompt6}\")\n"
      ]
    }
  ]
}