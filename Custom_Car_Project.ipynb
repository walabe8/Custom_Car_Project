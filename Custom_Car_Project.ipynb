{
  "cells": [
    {
      "cell_type": "markdown",
      "metadata": {
        "id": "view-in-github",
        "colab_type": "text"
      },
      "source": [
        "<a href=\"https://colab.research.google.com/github/walabe8/Custom_Car_Project/blob/main/Custom_Car_Project.ipynb\" target=\"_parent\"><img src=\"https://colab.research.google.com/assets/colab-badge.svg\" alt=\"Open In Colab\"/></a>"
      ]
    },
    {
      "cell_type": "code",
      "execution_count": 2,
      "metadata": {
        "colab": {
          "base_uri": "https://localhost:8080/"
        },
        "id": "KQhTNtJeHV1e",
        "outputId": "faea5c5a-e803-4771-e7f3-8fc5e246b87b"
      },
      "outputs": [
        {
          "output_type": "stream",
          "name": "stdout",
          "text": [
            "Welcome to the UMBC \n",
            " Car Customization Form!\n",
            "\n",
            "(For multiple choice problems, please enter the letter of the selection you're looking for\n",
            "~ Make & Model~\n",
            "1. What Model of Car are you ordering?\n",
            "    a. Honda Civic\n",
            "    b. Honda CRV\n",
            "    c. Honda Accord\n",
            "    d. Honda Pilot\n",
            "\n",
            "Please enter 'a' - 'd': a\n",
            "\n",
            "2. Would you like to upgrade from the 4-door option to the 2-door option?\n",
            "Please enter 'yes' or 'no': yes\n",
            "\n",
            "Exterior\n",
            "3. What color would you like your care to be?\n",
            "You may enter the name of any color you'd like:red\n",
            "\n",
            "4. Would you like the deluxe weather package?\n",
            "Please enter 'yes' or 'no': yes\n",
            "\n",
            "Interior\n",
            "5. Which Engine would you like your car to have?\n",
            "    a. Electric\n",
            "    b. V8\n",
            "    c. V6\n",
            "Please enter 'a' - 'c': c\n",
            "\n",
            "6. Would you like heated seats?\n",
            "Please enter 'yes' or 'no': yes\n",
            "\n",
            "Summary\n",
            "Model Option: a\n",
            "Upgrade to 2-Door?: yes\n",
            "Desired Color?: red\n",
            "Upgrade to Deluxe Weather?: yes\n",
            "Engine Option?: c\n",
            "Upgrade to Heated Seats?: yes\n"
          ]
        }
      ],
      "source": [
        "# Intro\n",
        "print(\"Welcome to the UMBC \\n Car Customization Form!\")\n",
        "print()\n",
        "\n",
        "# Make & Model Form 1-2\n",
        "print(\n",
        "    \"(For multiple choice problems, please enter the letter of the selection you're looking for\"\n",
        ")\n",
        "print(\"~ Make & Model~\")\n",
        "print(\"1. What Model of Car are you ordering?\")\n",
        "print(\"    a. Honda Civic\")\n",
        "print(\"    b. Honda CRV\")\n",
        "print(\"    c. Honda Accord\")\n",
        "print(\"    d. Honda Pilot\")\n",
        "\n",
        "print()\n",
        "userPrompt = input(\"Please enter 'a' - 'd': \")\n",
        "\n",
        "print()\n",
        "print(\n",
        "    \"2. Would you like to upgrade from the 4-door option to the 2-door option?\"\n",
        ")\n",
        "userPrompt2 = input(\"Please enter 'yes' or 'no': \")\n",
        "\n",
        "# Exterior Form 3-4\n",
        "print()\n",
        "print(\"Exterior\")\n",
        "print(\"3. What color would you like your care to be?\")\n",
        "userPrompt3 = input(\"You may enter the name of any color you'd like:\")\n",
        "\n",
        "print()\n",
        "print(\"4. Would you like the deluxe weather package?\")\n",
        "userPrompt4 = input(\"Please enter 'yes' or 'no': \")\n",
        "\n",
        "# Interior Form 5-6\n",
        "print()\n",
        "print(\"Interior\")\n",
        "print(\"5. Which Engine would you like your car to have?\")\n",
        "print(\"    a. Electric\")\n",
        "print(\"    b. V8\")\n",
        "print(\"    c. V6\")\n",
        "userPrompt5 = input(\"Please enter 'a' - 'c': \")\n",
        "\n",
        "print()\n",
        "print(\"6. Would you like heated seats?\")\n",
        "userPrompt6 = input(\"Please enter 'yes' or 'no': \")\n",
        "\n",
        "# Summary of their responses and corresponding questions should be shown at the end\n",
        "print()\n",
        "print(\"Summary\")\n",
        "print(f\"Model Option: {userPrompt}\")\n",
        "print(f\"Upgrade to 2-Door?: {userPrompt2}\")\n",
        "print(f\"Desired Color?: {userPrompt3}\")\n",
        "print(f\"Upgrade to Deluxe Weather?: {userPrompt4}\")\n",
        "print(f\"Engine Option?: {userPrompt5}\")\n",
        "print(f\"Upgrade to Heated Seats?: {userPrompt6}\")"
      ]
    }
  ],
  "metadata": {
    "colab": {
      "provenance": [],
      "authorship_tag": "ABX9TyM3a/1SXU9G6EdP/6PT+S92",
      "include_colab_link": true
    },
    "kernelspec": {
      "display_name": "Python 3",
      "name": "python3"
    },
    "language_info": {
      "name": "python"
    }
  },
  "nbformat": 4,
  "nbformat_minor": 0
}