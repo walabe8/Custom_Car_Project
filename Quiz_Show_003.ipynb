{
  "nbformat": 4,
  "nbformat_minor": 0,
  "metadata": {
    "colab": {
      "provenance": [],
      "authorship_tag": "ABX9TyO/pGHmRPmkSeJI+gcqPOgO",
      "include_colab_link": true
    },
    "kernelspec": {
      "name": "python3",
      "display_name": "Python 3"
    },
    "language_info": {
      "name": "python"
    }
  },
  "cells": [
    {
      "cell_type": "markdown",
      "metadata": {
        "id": "view-in-github",
        "colab_type": "text"
      },
      "source": [
        "<a href=\"https://colab.research.google.com/github/walabe8/Custom_Car_Project/blob/main/Quiz_Show_003.ipynb\" target=\"_parent\"><img src=\"https://colab.research.google.com/assets/colab-badge.svg\" alt=\"Open In Colab\"/></a>"
      ]
    },
    {
      "cell_type": "code",
      "execution_count": null,
      "metadata": {
        "id": "gH-_QohXDhaR",
        "colab": {
          "base_uri": "https://localhost:8080/"
        },
        "outputId": "72b4c581-3fe1-41a5-beb2-cd36ca2eda65"
      },
      "outputs": [
        {
          "output_type": "stream",
          "name": "stdout",
          "text": [
            "\n",
            "\n",
            "   ___     _   _             _____       _____                __  __  U _____ u  _\n",
            "  / \" \\ U |\"|u| |   ___     |\"_  /u     |_ \" _|     ___     U|' \\/ '|u\\| ___\"|/U|\"|u\n",
            " | |\"| | \\| |\\| |  |_\"_|    U / //        | |      |_\"_|    \\| |\\/| |/ |  _|\"  \\| |/\n",
            "/| |_| |\\ | |_| |   | |     \\/ /_        /| |\\      | |      | |  | |  | |___   |_|\n",
            "U \\__\\_\\u<<\\___/  U/| |\\u   /____|      u |_|U    U/| |\\u    |_|  |_|  |_____|  (_)\n",
            "   \\\\// (__) )(.-,_|___|_,-._//<<,-     _// \\\\_.-,_|___|_,-.<<,-,,-.   <<   >>  |||_\n",
            "  (_(__)    (__)\\_)-' '-(_/(__) (_/    (__) (__)\\_)-' '-(_/  (./  \\.) (__) (__)(__)_)\n",
            "\n",
            "\n",
            "Welcome to Quiz Time! You will answer a few True or False questions. Please ONLY enter the letter T or F when it's your turn to answer. Have fun!\n",
            "\n",
            "i is 0\n",
            "Q1. There are seven planets in the solar system\n",
            "Please enter 'T' for true or 'F' for false: T\n",
            "\n",
            "i is 1\n",
            "Q2. Deleware was the first state\n",
            "Please enter 'T' for true or 'F' for false: F\n",
            "\n",
            "i is 2\n",
            "Q3. The Walt Disney Company was founded in 1910\n",
            "Please enter 'T' for true or 'F' for false: F\n",
            "\n",
            "\n",
            "You got 2 out of 3 correct!\n",
            "Thanks for playing!\n"
          ]
        }
      ],
      "source": [
        "#Intro\n",
        "print(r\"\"\"\n",
        "\n",
        "   ___     _   _             _____       _____                __  __  U _____ u  _\n",
        "  / \" \\ U |\"|u| |   ___     |\"_  /u     |_ \" _|     ___     U|' \\/ '|u\\| ___\"|/U|\"|u\n",
        " | |\"| | \\| |\\| |  |_\"_|    U / //        | |      |_\"_|    \\| |\\/| |/ |  _|\"  \\| |/\n",
        "/| |_| |\\ | |_| |   | |     \\/ /_        /| |\\      | |      | |  | |  | |___   |_|\n",
        "U \\__\\_\\u<<\\___/  U/| |\\u   /____|      u |_|U    U/| |\\u    |_|  |_|  |_____|  (_)\n",
        "   \\\\// (__) )(.-,_|___|_,-._//<<,-     _// \\\\_.-,_|___|_,-.<<,-,,-.   <<   >>  |||_\n",
        "  (_(__)    (__)\\_)-' '-(_/(__) (_/    (__) (__)\\_)-' '-(_/  (./  \\.) (__) (__)(__)_)\n",
        "\n",
        "\"\"\")\n",
        "print(\"Welcome to Quiz Time! You will answer a few True or False questions. Please ONLY enter the letter T or F when it's your turn to answer. Have fun!\")\n",
        "print()\n",
        "\n",
        "# Variables. Store the questions in a tuple + the answers in a sep tuple\n",
        "questions = (\"Q1. There are seven planets in the solar system\", \"Q2. Deleware was the first state\", \"Q3. The Walt Disney Company was founded in 1910\")\n",
        "numberOfQuestions = len(questions)\n",
        "answers = ('T', 'T', 'F')\n",
        "count = 0\n",
        "\n",
        "# Conditional logic for loop validating userInput to answers adding to a counter\n",
        "for i in range(len(questions)):\n",
        "  print(\"i is\", i)\n",
        "\n",
        "# While true keep printing the questions\n",
        "  while True:\n",
        "    print(questions[i])\n",
        "    userInput = input(\"Please enter 'T' for true or 'F' for false: \")\n",
        "    print()\n",
        "\n",
        "# validate the user input and if it's not T or F prompt them again. Add up the count if they use T or F\n",
        "    if userInput != \"F\" and userInput != \"T\":\n",
        "      print(\"Invalid input, please try again\")\n",
        "    else:\n",
        "      if userInput == answers[i]:\n",
        "        count += 1;\n",
        "      break\n",
        "\n",
        "# Final Result\n",
        "print()\n",
        "print(f\"You got {count} out of {numberOfQuestions} correct!\")\n",
        "print(\"Thanks for playing!\")"
      ]
    }
  ]
}